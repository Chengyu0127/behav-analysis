{
 "cells": [
  {
   "cell_type": "code",
   "execution_count": null,
   "metadata": {
    "collapsed": false
   },
   "outputs": [],
   "source": [
    "%pylab inline\n",
    "import glob\n",
    "import pandas as pd\n",
    "import os\n",
    "import datetime as dt\n",
    "import seaborn as sns\n",
    "\n",
    "import behav\n",
    "from behav import plotting, utils, loading\n",
    "data_path = '/mnt/cube/RawData/Zog/'\n",
    "\n",
    "subjects = (\n",
    "            'B1109',\n",
    "            'B1222'\n",
    "            )"
   ]
  },
  {
   "cell_type": "markdown",
   "metadata": {},
   "source": [
    "## Loads Data"
   ]
  },
  {
   "cell_type": "code",
   "execution_count": null,
   "metadata": {
    "collapsed": true
   },
   "outputs": [],
   "source": [
    "%%time\n",
    "behav_data = behav.loading.load_data_pandas(subjects,data_path)"
   ]
  },
  {
   "cell_type": "markdown",
   "metadata": {},
   "source": [
    "## plot performance over past two weeks in calendar"
   ]
  },
  {
   "cell_type": "code",
   "execution_count": null,
   "metadata": {
    "collapsed": false
   },
   "outputs": [],
   "source": [
    "for subj,data in behav_data.iteritems():\n",
    "    behav.plotting.plot_filtered_performance_calendar(subj,data,num_days=20)    "
   ]
  },
  {
   "cell_type": "markdown",
   "metadata": {},
   "source": [
    "##plot accuracy per stim"
   ]
  },
  {
   "cell_type": "code",
   "execution_count": null,
   "metadata": {
    "collapsed": true
   },
   "outputs": [],
   "source": [
    "figsize(16.0, 8.0)\n",
    "for subj,df in behav_data.items():\n",
    "    behav.plotting.plot_filtered_accperstim(subj, df, extract_stim_names=True)"
   ]
  },
  {
   "cell_type": "markdown",
   "metadata": {},
   "source": [
    "## Plot percent correct by block with confidence bounds"
   ]
  },
  {
   "cell_type": "code",
   "execution_count": null,
   "metadata": {
    "collapsed": false
   },
   "outputs": [],
   "source": [
    "figsize(16.0, 8.0)\n",
    "for subj,df in behav_data.items():\n",
    "    behav.plotting.plot_ci_accuracy(subj, df)"
   ]
  },
  {
   "cell_type": "markdown",
   "metadata": {},
   "source": [
    "##plot accuracy today"
   ]
  },
  {
   "cell_type": "code",
   "execution_count": null,
   "metadata": {
    "collapsed": true
   },
   "outputs": [],
   "source": [
    "figsize(16.0, 8.0)\n",
    "for subj,df in behav_data.items():\n",
    "    behav.plotting.plot_daily_accuracy(subj, df, x_axis='trial_num')"
   ]
  },
  {
   "cell_type": "markdown",
   "metadata": {},
   "source": [
    "# Plot number of trials and feeds for past week"
   ]
  },
  {
   "cell_type": "code",
   "execution_count": null,
   "metadata": {
    "collapsed": false
   },
   "outputs": [],
   "source": [
    "mplib_colors = ['b','g','r', 'c', 'm', 'y']\n",
    "figsize(16.0, 4.0)\n",
    "\n",
    "for subj,df in behav_data.items():\n",
    "    data_to_analyze = df[df.index>(dt.datetime.today()-dt.timedelta(weeks=1))]\n",
    "    if not data_to_analyze.empty:\n",
    "        blocked = data_to_analyze.groupby(lambda x: (x.date()-dt.datetime.now().date()).days)\n",
    "        \n",
    "        days = np.sort(blocked.groups.keys())\n",
    "        trials_per_day = blocked['response'].count().values\n",
    "        \n",
    "        line_color = mplib_colors.pop(0)\n",
    "        \n",
    "        line = plot(days, trials_per_day, label=subj + ' trials per day', c=line_color)\n",
    "        \n",
    "        if len(days) == 1:\n",
    "            plot(0, trials_per_day[-1], 'o', c=line_color)\n",
    "        \n",
    "        aggregated = blocked.agg({'correct': lambda x: np.mean(x.astype(float)),\n",
    "                                  'response': lambda x: np.mean((x=='L').astype(float)),\n",
    "                                  'type_': lambda x: np.sum((x=='normal').astype(float)),\n",
    "                                  'reward': lambda x: np.sum((x==True).astype(float)),\n",
    "                                    })\n",
    "        \n",
    "        aggregated['reward'].plot(ax=gca(), label=subj + ' feeds per day', ls='--', c=line_color)\n",
    "        if len(days) == 1:\n",
    "            plot(0, aggregated['reward'][0], 'o', c=line_color)\n",
    "\n",
    "title('trials and feeds per day')\n",
    "h = legend(loc='upper left')\n",
    "\n"
   ]
  }
 ],
 "metadata": {
  "kernelspec": {
   "display_name": "Python 2",
   "language": "python",
   "name": "python2"
  },
  "language_info": {
   "codemirror_mode": {
    "name": "ipython",
    "version": 2
   },
   "file_extension": ".py",
   "mimetype": "text/x-python",
   "name": "python",
   "nbconvert_exporter": "python",
   "pygments_lexer": "ipython2",
   "version": "2.7.12"
  }
 },
 "nbformat": 4,
 "nbformat_minor": 0
}
